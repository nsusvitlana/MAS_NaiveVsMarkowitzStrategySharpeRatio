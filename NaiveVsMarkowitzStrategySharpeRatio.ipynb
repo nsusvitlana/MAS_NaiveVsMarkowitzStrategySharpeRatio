{
 "cells": [
  {
   "cell_type": "code",
   "execution_count": 1,
   "metadata": {
    "collapsed": true
   },
   "outputs": [],
   "source": [
    "import pandas as pd\n",
    "import numpy as np\n"
   ]
  },
  {
   "cell_type": "code",
   "execution_count": 2,
   "metadata": {
    "collapsed": true
   },
   "outputs": [],
   "source": [
    "# data from Ken French's web site:\n",
    "# http://mba.tuck.dartmouth.edu/pages/faculty/ken.french/data_library.html\n",
    "# data set: Industry Portfolios, 10 Industry Portfolios \n",
    "fileName = 'data/10_Industry_Portfolios_Monthly.csv' # change as needed\n"
   ]
  },
  {
   "cell_type": "code",
   "execution_count": 3,
   "metadata": {},
   "outputs": [
    {
     "name": "stdout",
     "output_type": "stream",
     "text": [
      "Data for 10 assests over 1098 periods\n"
     ]
    },
    {
     "data": {
      "text/html": [
       "<div>\n",
       "<style scoped>\n",
       "    .dataframe tbody tr th:only-of-type {\n",
       "        vertical-align: middle;\n",
       "    }\n",
       "\n",
       "    .dataframe tbody tr th {\n",
       "        vertical-align: top;\n",
       "    }\n",
       "\n",
       "    .dataframe thead th {\n",
       "        text-align: right;\n",
       "    }\n",
       "</style>\n",
       "<table border=\"1\" class=\"dataframe\">\n",
       "  <thead>\n",
       "    <tr style=\"text-align: right;\">\n",
       "      <th></th>\n",
       "      <th>Date</th>\n",
       "      <th>NoDur</th>\n",
       "      <th>Durbl</th>\n",
       "      <th>Manuf</th>\n",
       "      <th>Enrgy</th>\n",
       "      <th>HiTec</th>\n",
       "      <th>Telcm</th>\n",
       "      <th>Shops</th>\n",
       "      <th>Hlth</th>\n",
       "      <th>Utils</th>\n",
       "      <th>Other</th>\n",
       "    </tr>\n",
       "  </thead>\n",
       "  <tbody>\n",
       "    <tr>\n",
       "      <th>0</th>\n",
       "      <td>192607</td>\n",
       "      <td>1.45</td>\n",
       "      <td>15.55</td>\n",
       "      <td>4.69</td>\n",
       "      <td>-1.18</td>\n",
       "      <td>2.90</td>\n",
       "      <td>0.83</td>\n",
       "      <td>0.11</td>\n",
       "      <td>1.77</td>\n",
       "      <td>7.04</td>\n",
       "      <td>2.16</td>\n",
       "    </tr>\n",
       "    <tr>\n",
       "      <th>1</th>\n",
       "      <td>192608</td>\n",
       "      <td>3.97</td>\n",
       "      <td>3.68</td>\n",
       "      <td>2.81</td>\n",
       "      <td>3.47</td>\n",
       "      <td>2.66</td>\n",
       "      <td>2.17</td>\n",
       "      <td>-0.71</td>\n",
       "      <td>4.25</td>\n",
       "      <td>-1.69</td>\n",
       "      <td>4.38</td>\n",
       "    </tr>\n",
       "    <tr>\n",
       "      <th>2</th>\n",
       "      <td>192609</td>\n",
       "      <td>1.14</td>\n",
       "      <td>4.80</td>\n",
       "      <td>1.15</td>\n",
       "      <td>-3.39</td>\n",
       "      <td>-0.38</td>\n",
       "      <td>2.41</td>\n",
       "      <td>0.21</td>\n",
       "      <td>0.69</td>\n",
       "      <td>2.04</td>\n",
       "      <td>0.29</td>\n",
       "    </tr>\n",
       "    <tr>\n",
       "      <th>3</th>\n",
       "      <td>192610</td>\n",
       "      <td>-1.24</td>\n",
       "      <td>-8.23</td>\n",
       "      <td>-3.63</td>\n",
       "      <td>-0.78</td>\n",
       "      <td>-4.58</td>\n",
       "      <td>-0.11</td>\n",
       "      <td>-2.29</td>\n",
       "      <td>-0.57</td>\n",
       "      <td>-2.63</td>\n",
       "      <td>-2.85</td>\n",
       "    </tr>\n",
       "    <tr>\n",
       "      <th>4</th>\n",
       "      <td>192611</td>\n",
       "      <td>5.21</td>\n",
       "      <td>-0.19</td>\n",
       "      <td>4.10</td>\n",
       "      <td>0.01</td>\n",
       "      <td>4.71</td>\n",
       "      <td>1.63</td>\n",
       "      <td>6.43</td>\n",
       "      <td>5.42</td>\n",
       "      <td>3.71</td>\n",
       "      <td>2.11</td>\n",
       "    </tr>\n",
       "  </tbody>\n",
       "</table>\n",
       "</div>"
      ],
      "text/plain": [
       "     Date  NoDur  Durbl  Manuf  Enrgy  HiTec  Telcm  Shops  Hlth   Utils  \\\n",
       "0  192607   1.45  15.55   4.69  -1.18   2.90   0.83   0.11   1.77   7.04   \n",
       "1  192608   3.97   3.68   2.81   3.47   2.66   2.17  -0.71   4.25  -1.69   \n",
       "2  192609   1.14   4.80   1.15  -3.39  -0.38   2.41   0.21   0.69   2.04   \n",
       "3  192610  -1.24  -8.23  -3.63  -0.78  -4.58  -0.11  -2.29  -0.57  -2.63   \n",
       "4  192611   5.21  -0.19   4.10   0.01   4.71   1.63   6.43   5.42   3.71   \n",
       "\n",
       "   Other  \n",
       "0   2.16  \n",
       "1   4.38  \n",
       "2   0.29  \n",
       "3  -2.85  \n",
       "4   2.11  "
      ]
     },
     "execution_count": 3,
     "metadata": {},
     "output_type": "execute_result"
    }
   ],
   "source": [
    "df = pd.read_csv(fileName) # read data from csv file\n",
    "df = df.dropna() # remove missing observations\n",
    "T, N = df.shape # T is the number of periods\n",
    "N = N - 1 # number of risky assets ignoring date\n",
    "print('Data for %d assests over %d periods' %(N, T)) # shape of data frame\n",
    "df.head() # display first 5 rows\n"
   ]
  },
  {
   "cell_type": "code",
   "execution_count": 4,
   "metadata": {},
   "outputs": [],
   "source": [
    "def getData(df, start, M):\n",
    "    \"\"\"returns excess returns for the N assets over a window of M periods from start\"\"\"\n",
    "    return df.loc[start:(start+M-1),df.columns != 'Date'].astype(float).as_matrix()\n"
   ]
  },
  {
   "cell_type": "code",
   "execution_count": 5,
   "metadata": {
    "collapsed": true
   },
   "outputs": [],
   "source": [
    "def naiveStrategy(N):\n",
    "    \"\"\"returns equal weights 1/N for N risky assets\"\"\"\n",
    "    return np.ones(N)/N\n"
   ]
  },
  {
   "cell_type": "code",
   "execution_count": 6,
   "metadata": {
    "collapsed": true
   },
   "outputs": [],
   "source": [
    "def optimalWeights(m, c):\n",
    "    \"\"\"returns optimal normalized weights (equation 3 in DeMiguel)\n",
    "    given mean vector m and covariance matrix c for N risky assets\"\"\"\n",
    "    covI = np.linalg.inv(c) # inverse of covariance\n",
    "    w = np.matmul(covI, m) # unnormalized optimal weights\n",
    "    return w/sum(w) # normalized optimal weights\n"
   ]
  },
  {
   "cell_type": "code",
   "execution_count": 7,
   "metadata": {
    "collapsed": true
   },
   "outputs": [],
   "source": [
    "def meanVarianceStrategy(x):\n",
    "    \"\"\"returns optimal normalized weights for N risky assets \n",
    "    using Markowitz (1952) mean-variance strategy\n",
    "    based on sample mean and covariance matrix of observations x\"\"\"\n",
    "    m = np.mean(x,axis=0) # mean vector\n",
    "    c = np.cov(x, rowvar=False)\n",
    "    return optimalWeights(m, c)\n",
    "    "
   ]
  },
  {
   "cell_type": "code",
   "execution_count": 8,
   "metadata": {
    "collapsed": true
   },
   "outputs": [],
   "source": [
    "def returns(df, t, w):\n",
    "    \"\"\"Given weight vector w, computes returns in period t\"\"\"\n",
    "    x = getData(df, t, 1)\n",
    "    return np.matmul(x,w)[0]\n"
   ]
  },
  {
   "cell_type": "code",
   "execution_count": 9,
   "metadata": {
    "collapsed": true
   },
   "outputs": [],
   "source": [
    "def SharpeRatio(returns):\n",
    "    \"\"\"returns Sharpe ratio given returns\"\"\" \n",
    "    m, s = np.mean(returns), np.std(returns)\n",
    "    return m/s\n",
    "    "
   ]
  },
  {
   "cell_type": "code",
   "execution_count": 10,
   "metadata": {
    "collapsed": true
   },
   "outputs": [],
   "source": [
    "def evaluateNaiveStrategy(M):\n",
    "    w = naiveStrategy(N) # fixed weights\n",
    "    res = []\n",
    "    for t in range(T-M-2):\n",
    "        x = getData(df, t, M)\n",
    "        r = returns(df, t+M+1, w)\n",
    "        res.append(r)\n",
    "    SR = SharpeRatio(res)\n",
    "    print('Sharpe Ratio for Naive Strategy = %4.4f' %SR)\n",
    "    return SR\n",
    "    "
   ]
  },
  {
   "cell_type": "code",
   "execution_count": 11,
   "metadata": {
    "collapsed": true
   },
   "outputs": [],
   "source": [
    "def evaluateMeanVarianceStrategy(M):\n",
    "    resInSample, resOutOfSample = [], []\n",
    "    for t in range(T-M-2):\n",
    "        x = getData(df, t, M)\n",
    "        w = meanVarianceStrategy(x)\n",
    "        ri = returns(df, t+M, w)\n",
    "        ro = returns(df, t+M+1, w)\n",
    "        resInSample.append(ri)\n",
    "        resOutOfSample.append(ro)\n",
    "    SRI, SRO = SharpeRatio(resInSample), SharpeRatio(resOutOfSample)\n",
    "    print('Sharpe Ratio for Mean Variance Strategy: Insample = %4.4f, OutOfsample = %4.4f' %(SRI, SRO))\n",
    "    return SRI, SRO\n"
   ]
  },
  {
   "cell_type": "code",
   "execution_count": 12,
   "metadata": {},
   "outputs": [
    {
     "name": "stdout",
     "output_type": "stream",
     "text": [
      "Window size = 60\n",
      "Sharpe Ratio for Naive Strategy = 0.2001\n",
      "Sharpe Ratio for Mean Variance Strategy: Insample = 0.0438, OutOfsample = 0.0654\n",
      "\n",
      "Window size = 120\n",
      "Sharpe Ratio for Naive Strategy = 0.2320\n",
      "Sharpe Ratio for Mean Variance Strategy: Insample = 0.1049, OutOfsample = 0.0987\n",
      "\n",
      "Window size = 180\n",
      "Sharpe Ratio for Naive Strategy = 0.2615\n",
      "Sharpe Ratio for Mean Variance Strategy: Insample = 0.1875, OutOfsample = 0.1905\n",
      "\n",
      "Window size = 240\n",
      "Sharpe Ratio for Naive Strategy = 0.2510\n",
      "Sharpe Ratio for Mean Variance Strategy: Insample = 0.2366, OutOfsample = 0.2345\n",
      "\n",
      "Window size = 300\n",
      "Sharpe Ratio for Naive Strategy = 0.2541\n",
      "Sharpe Ratio for Mean Variance Strategy: Insample = 0.2477, OutOfsample = 0.2403\n",
      "\n",
      "Window size = 360\n",
      "Sharpe Ratio for Naive Strategy = 0.2402\n",
      "Sharpe Ratio for Mean Variance Strategy: Insample = 0.2407, OutOfsample = 0.2371\n",
      "\n",
      "Window size = 420\n",
      "Sharpe Ratio for Naive Strategy = 0.2301\n",
      "Sharpe Ratio for Mean Variance Strategy: Insample = 0.2226, OutOfsample = 0.2179\n",
      "\n",
      "Window size = 480\n",
      "Sharpe Ratio for Naive Strategy = 0.2320\n",
      "Sharpe Ratio for Mean Variance Strategy: Insample = 0.2396, OutOfsample = 0.2398\n",
      "\n",
      "Window size = 540\n",
      "Sharpe Ratio for Naive Strategy = 0.2392\n",
      "Sharpe Ratio for Mean Variance Strategy: Insample = 0.2479, OutOfsample = 0.2508\n",
      "\n",
      "Window size = 600\n",
      "Sharpe Ratio for Naive Strategy = 0.2623\n",
      "Sharpe Ratio for Mean Variance Strategy: Insample = 0.2765, OutOfsample = 0.2747\n",
      "\n"
     ]
    }
   ],
   "source": [
    "for M in range(60,601,60):\n",
    "    print('Window size = %d' %M)\n",
    "    SRNS = evaluateNaiveStrategy(M)\n",
    "    SRI, SRO = evaluateMeanVarianceStrategy(M)\n",
    "    print()\n",
    "    "
   ]
  },
  {
   "cell_type": "code",
   "execution_count": null,
   "metadata": {
    "collapsed": true
   },
   "outputs": [],
   "source": []
  }
 ],
 "metadata": {
  "kernelspec": {
   "display_name": "Naive",
   "language": "python",
   "name": "naive"
  },
  "language_info": {
   "codemirror_mode": {
    "name": "ipython",
    "version": 3
   },
   "file_extension": ".py",
   "mimetype": "text/x-python",
   "name": "python",
   "nbconvert_exporter": "python",
   "pygments_lexer": "ipython3",
   "version": "3.6.9"
  }
 },
 "nbformat": 4,
 "nbformat_minor": 2
}
